{
 "cells": [
  {
   "cell_type": "markdown",
   "id": "92ba0904-df9d-4855-a559-dba78a4cc9d8",
   "metadata": {},
   "source": [
    "### Q1\n",
    "Key Features of Python\n",
    "\n",
    "- Free and Open Source\n",
    "   >> Since it is open-source, this means that source code is also available to the public. So you can download it, use it as well as share it. \n",
    "   \n",
    "- Easy to code\n",
    "   >> Python is very easy to learn the language as compared to other languages like C, C#, Javascript, Java, etc.\n",
    "   \n",
    "- Easy to Read\n",
    "   >>  Python’s syntax is really straightforward. The code block is defined by the indentations rather than by semicolons or brackets.\n",
    "   \n",
    "- Object-Oriented Language\n",
    "   >> Python supports object-oriented language and concepts of classes, object encapsulation, etc. \n",
    "   \n",
    "- High-Level Language\n",
    "   >> High level languages are easier to understand for humans because it uses lot of symbols letters phrases to represent logic and instructions in a program. \n",
    "   \n",
    "- Large Community Support\n",
    "   >> Our questions are constantly answered by the enormous StackOverflow community. These websites have already provided answers to many questions about Python, so Python users can    consult them as needed.\n",
    "   \n",
    "- Large Standard Library \n",
    " >> Python has Standard Library that provides a rich set of modules and functions so you do not have to write your own code for every single thing. There are many libraries present in Python such as pandas, numpy, matplotlib, nltk etc.\n",
    " \n",
    "- Backend development   \n",
    "     >>  Backend is the strong forte of Python it’s extensively used for this work cause of its frameworks like Django and Flask. \n",
    "\n",
    "- Allocating Memory Dynamically\n",
    "    >> The variable data type does not need to be specified. The memory is automatically allocated to a variable at runtime when it is given a value. \n"
   ]
  },
  {
   "cell_type": "code",
   "execution_count": 1,
   "id": "d89e72f4-fd94-4166-bc37-3464c946644d",
   "metadata": {},
   "outputs": [
    {
     "name": "stdout",
     "output_type": "stream",
     "text": [
      "\n",
      "Here is a list of the Python keywords.  Enter any keyword to get more help.\n",
      "\n",
      "False               break               for                 not\n",
      "None                class               from                or\n",
      "True                continue            global              pass\n",
      "__peg_parser__      def                 if                  raise\n",
      "and                 del                 import              return\n",
      "as                  elif                in                  try\n",
      "assert              else                is                  while\n",
      "async               except              lambda              with\n",
      "await               finally             nonlocal            yield\n",
      "\n"
     ]
    }
   ],
   "source": [
    "# Q2 >> Python keywords\n",
    "\n",
    "help(\"keywords\")\n"
   ]
  },
  {
   "cell_type": "markdown",
   "id": "27a752ac-f22e-4763-a4e5-5ed87ca62269",
   "metadata": {},
   "source": [
    "#### Q2\n",
    "- Python keywords'\n",
    "\n",
    "    >>Python Keywords are some predefined and reserved words in Python that have special meanings. Keywords are used to define the syntax of the coding. The keyword cannot be used as an  identifier, function, or variable name. All the keywords in Python are written in lowercase except True and False. There are 35 keywords in Python 3.11.\n",
    "\n"
   ]
  },
  {
   "cell_type": "code",
   "execution_count": 2,
   "id": "f49b5a31-3699-4dbe-bccd-5ed6c728e5df",
   "metadata": {},
   "outputs": [
    {
     "data": {
      "text/plain": [
       "True"
      ]
     },
     "execution_count": 2,
     "metadata": {},
     "output_type": "execute_result"
    }
   ],
   "source": [
    "# examples of keywords \n",
    "\n",
    "True and True"
   ]
  },
  {
   "cell_type": "code",
   "execution_count": 5,
   "id": "9606897a-78bf-4817-81ee-c0a4b4b7a8eb",
   "metadata": {},
   "outputs": [
    {
     "data": {
      "text/plain": [
       "True"
      ]
     },
     "execution_count": 5,
     "metadata": {},
     "output_type": "execute_result"
    }
   ],
   "source": [
    "True or True"
   ]
  },
  {
   "cell_type": "code",
   "execution_count": 6,
   "id": "1dc46f7a-f115-4c56-8eab-7170e8f4a94e",
   "metadata": {},
   "outputs": [
    {
     "data": {
      "text/plain": [
       "False"
      ]
     },
     "execution_count": 6,
     "metadata": {},
     "output_type": "execute_result"
    }
   ],
   "source": [
    "True and False "
   ]
  },
  {
   "cell_type": "code",
   "execution_count": 7,
   "id": "081c1998-0ce5-4def-80a0-819973b763b6",
   "metadata": {},
   "outputs": [
    {
     "data": {
      "text/plain": [
       "True"
      ]
     },
     "execution_count": 7,
     "metadata": {},
     "output_type": "execute_result"
    }
   ],
   "source": [
    "\n",
    "True or False"
   ]
  },
  {
   "cell_type": "code",
   "execution_count": 9,
   "id": "b27a391e-931b-452a-84e9-1a9ddcbcc55d",
   "metadata": {},
   "outputs": [
    {
     "data": {
      "text/plain": [
       "False"
      ]
     },
     "execution_count": 9,
     "metadata": {},
     "output_type": "execute_result"
    }
   ],
   "source": [
    "not True"
   ]
  },
  {
   "cell_type": "code",
   "execution_count": 10,
   "id": "bad5ac6a-798d-43cc-8870-8dc4a0020bf9",
   "metadata": {},
   "outputs": [
    {
     "data": {
      "text/plain": [
       "True"
      ]
     },
     "execution_count": 10,
     "metadata": {},
     "output_type": "execute_result"
    }
   ],
   "source": [
    "not False"
   ]
  },
  {
   "cell_type": "code",
   "execution_count": 16,
   "id": "5faf99e4-32ea-4106-aca8-c7732c7a2766",
   "metadata": {},
   "outputs": [
    {
     "data": {
      "text/plain": [
       "True"
      ]
     },
     "execution_count": 16,
     "metadata": {},
     "output_type": "execute_result"
    }
   ],
   "source": [
    "name =\"abdullah inaam\"\n",
    "\"abd\" in name\n"
   ]
  },
  {
   "cell_type": "code",
   "execution_count": 17,
   "id": "8c02b641-b424-4916-81b2-adddc1a4b5a4",
   "metadata": {},
   "outputs": [
    {
     "data": {
      "text/plain": [
       "False"
      ]
     },
     "execution_count": 17,
     "metadata": {},
     "output_type": "execute_result"
    }
   ],
   "source": [
    "\"abdc\" in name"
   ]
  },
  {
   "cell_type": "code",
   "execution_count": 14,
   "id": "a5ffb7ad-0fc6-4375-a3f8-dd26453a3e6d",
   "metadata": {},
   "outputs": [
    {
     "data": {
      "text/plain": [
       "True"
      ]
     },
     "execution_count": 14,
     "metadata": {},
     "output_type": "execute_result"
    }
   ],
   "source": [
    "\"abdc\" not in name"
   ]
  },
  {
   "cell_type": "code",
   "execution_count": 51,
   "id": "d0cadda0-3ef8-49d3-b91a-51aed82d8686",
   "metadata": {},
   "outputs": [
    {
     "name": "stdin",
     "output_type": "stream",
     "text": [
      "enter time 3\n"
     ]
    },
    {
     "name": "stdout",
     "output_type": "stream",
     "text": [
      "GOT TO SLEEP ITS NIGHT TIME\n"
     ]
    }
   ],
   "source": [
    "num=int(input(\"enter time\"))\n",
    "if num in range(12,18):\n",
    "    print(\"Good afternoon\")\n",
    "elif num in range (18,22) :\n",
    "    print(\"Good evening\")\n",
    "    \n",
    "elif num in range(5,12) :\n",
    "     print(\"Good Morning\")\n",
    "else :\n",
    "    print(\"GOT TO SLEEP ITS NIGHT TIME\")\n",
    "    \n",
    "        \n",
    "        \n"
   ]
  },
  {
   "cell_type": "code",
   "execution_count": 52,
   "id": "974ad670-0211-4956-ba08-09ba85074648",
   "metadata": {},
   "outputs": [
    {
     "name": "stdin",
     "output_type": "stream",
     "text": [
      "enter no 4\n"
     ]
    },
    {
     "name": "stdout",
     "output_type": "stream",
     "text": [
      "even\n"
     ]
    }
   ],
   "source": [
    "\n",
    "num=int(input(\"enter no\"))\n",
    "if num %2==0:\n",
    "    print(\"even\")\n",
    "else:\n",
    "    print(\"odd\")"
   ]
  },
  {
   "cell_type": "markdown",
   "id": "d15cf6fe-9ef4-4336-941d-a6eb45786257",
   "metadata": {},
   "source": [
    "#### Q3 \n",
    "- Mutbale and Immutable \n",
    "    >>Mutable objects in Python are those that can be changed after they are created, like lists or dictionaries. Immutable objects, on the other hand, cannot be changed after they are created, such as strings, integers, or tuples."
   ]
  },
  {
   "cell_type": "code",
   "execution_count": 53,
   "id": "86e38ab3-d234-4593-a197-ddc44583ad55",
   "metadata": {},
   "outputs": [
    {
     "data": {
      "text/plain": [
       "['apple', 'grapes', 'banana', 'mango', 'pineapple']"
      ]
     },
     "execution_count": 53,
     "metadata": {},
     "output_type": "execute_result"
    }
   ],
   "source": [
    "#examples\n",
    "List=[\"orange\", \"grapes\", \"banana\",\"mango\",\"pineapple\"]\n",
    "List[0]=\"apple\"\n",
    "List\n",
    "\n",
    "#i.e list is mutable"
   ]
  },
  {
   "cell_type": "code",
   "execution_count": 54,
   "id": "c4be1b36-05ce-45a9-bc3b-c72eb6ba57f1",
   "metadata": {},
   "outputs": [
    {
     "ename": "TypeError",
     "evalue": "'str' object does not support item assignment",
     "output_type": "error",
     "traceback": [
      "\u001b[0;31m---------------------------------------------------------------------------\u001b[0m",
      "\u001b[0;31mTypeError\u001b[0m                                 Traceback (most recent call last)",
      "Cell \u001b[0;32mIn[54], line 2\u001b[0m\n\u001b[1;32m      1\u001b[0m name\u001b[38;5;241m=\u001b[39m\u001b[38;5;124m\"\u001b[39m\u001b[38;5;124mPWSKILLS\u001b[39m\u001b[38;5;124m\"\u001b[39m\n\u001b[0;32m----> 2\u001b[0m \u001b[43mname\u001b[49m\u001b[43m[\u001b[49m\u001b[38;5;241;43m3\u001b[39;49m\u001b[43m]\u001b[49m\u001b[38;5;241m=\u001b[39m\u001b[38;5;124m\"\u001b[39m\u001b[38;5;124mr\u001b[39m\u001b[38;5;124m\"\u001b[39m\n",
      "\u001b[0;31mTypeError\u001b[0m: 'str' object does not support item assignment"
     ]
    }
   ],
   "source": [
    "name=\"PWSKILLS\"\n",
    "name[3]=\"r\"\n",
    "\n",
    "#i.e strings are immutable"
   ]
  },
  {
   "cell_type": "code",
   "execution_count": 56,
   "id": "9a608569-a90e-417d-8903-2e4d2e7eb338",
   "metadata": {},
   "outputs": [
    {
     "ename": "TypeError",
     "evalue": "'tuple' object does not support item assignment",
     "output_type": "error",
     "traceback": [
      "\u001b[0;31m---------------------------------------------------------------------------\u001b[0m",
      "\u001b[0;31mTypeError\u001b[0m                                 Traceback (most recent call last)",
      "Cell \u001b[0;32mIn[56], line 2\u001b[0m\n\u001b[1;32m      1\u001b[0m Tuple\u001b[38;5;241m=\u001b[39m(\u001b[38;5;124m\"\u001b[39m\u001b[38;5;124mtomato\u001b[39m\u001b[38;5;124m\"\u001b[39m,\u001b[38;5;124m\"\u001b[39m\u001b[38;5;124monion\u001b[39m\u001b[38;5;124m\"\u001b[39m,\u001b[38;5;124m\"\u001b[39m\u001b[38;5;124mpotato\u001b[39m\u001b[38;5;124m\"\u001b[39m,\u001b[38;5;124m\"\u001b[39m\u001b[38;5;124mbringal\u001b[39m\u001b[38;5;124m\"\u001b[39m)\n\u001b[0;32m----> 2\u001b[0m \u001b[43mTuple\u001b[49m\u001b[43m[\u001b[49m\u001b[38;5;241;43m0\u001b[39;49m\u001b[43m]\u001b[49m\u001b[38;5;241m=\u001b[39m\u001b[38;5;124m\"\u001b[39m\u001b[38;5;124mginger\u001b[39m\u001b[38;5;124m\"\u001b[39m\n",
      "\u001b[0;31mTypeError\u001b[0m: 'tuple' object does not support item assignment"
     ]
    }
   ],
   "source": [
    "Tuple=(\"tomato\",\"onion\",\"potato\",\"bringal\")\n",
    "Tuple[0]=\"ginger\"\n",
    "\n",
    "#i.e tuple is immutable"
   ]
  },
  {
   "cell_type": "code",
   "execution_count": 57,
   "id": "9f76cd27-3633-4754-9bee-0981946e82e7",
   "metadata": {},
   "outputs": [
    {
     "ename": "TypeError",
     "evalue": "'set' object does not support item assignment",
     "output_type": "error",
     "traceback": [
      "\u001b[0;31m---------------------------------------------------------------------------\u001b[0m",
      "\u001b[0;31mTypeError\u001b[0m                                 Traceback (most recent call last)",
      "Cell \u001b[0;32mIn[57], line 2\u001b[0m\n\u001b[1;32m      1\u001b[0m Set\u001b[38;5;241m=\u001b[39m{\u001b[38;5;124m\"\u001b[39m\u001b[38;5;124minaam\u001b[39m\u001b[38;5;124m\"\u001b[39m,\u001b[38;5;124m\"\u001b[39m\u001b[38;5;124mdanish\u001b[39m\u001b[38;5;124m\"\u001b[39m, \u001b[38;5;124m\"\u001b[39m\u001b[38;5;124mzamin\u001b[39m\u001b[38;5;124m\"\u001b[39m,\u001b[38;5;124m\"\u001b[39m\u001b[38;5;124mdawar\u001b[39m\u001b[38;5;124m\"\u001b[39m}\n\u001b[0;32m----> 2\u001b[0m \u001b[43mSet\u001b[49m\u001b[43m[\u001b[49m\u001b[38;5;241;43m0\u001b[39;49m\u001b[43m]\u001b[49m\u001b[38;5;241m=\u001b[39m\u001b[38;5;124m\"\u001b[39m\u001b[38;5;124mzarka\u001b[39m\u001b[38;5;124m\"\u001b[39m\n",
      "\u001b[0;31mTypeError\u001b[0m: 'set' object does not support item assignment"
     ]
    }
   ],
   "source": [
    "Set={\"inaam\",\"danish\", \"zamin\",\"dawar\"}\n",
    "Set[0]=\"zarka\"\n",
    "\n",
    "\n",
    "#set is immutable"
   ]
  },
  {
   "cell_type": "code",
   "execution_count": 65,
   "id": "9b60eea1-f6af-47a2-8fe7-1a92a9d5ae83",
   "metadata": {},
   "outputs": [
    {
     "data": {
      "text/plain": [
       "{'brand': 'Ford', 'model': 'Mustang', 'year': 1964, 'newadd': 'changable'}"
      ]
     },
     "execution_count": 65,
     "metadata": {},
     "output_type": "execute_result"
    }
   ],
   "source": [
    "thisdict = {\n",
    "  \"brand\": \"Ford\",\n",
    "  \"model\": \"Mustang\",\n",
    "  \"year\": 1964\n",
    "}\n",
    "thisdict[\"newadd\"]=\"changable\"\n",
    "thisdict\n",
    "\n",
    "#dict is mutable"
   ]
  },
  {
   "cell_type": "markdown",
   "id": "d0a76d53-2b3e-46ec-bb26-db6fcf83b8cb",
   "metadata": {},
   "source": [
    "### Q4 \n",
    "- PYTHON OPERATORS\n",
    ">>> Operators are used to perform operations on variables and values.\n",
    "\n",
    "\n",
    "- Python divides the operators in the following groups:\n",
    "> Arithmetic operators\n",
    "> Assignment operators\n",
    "> Comparison operators\n",
    "> Logical operators\n",
    "> Identity operators\n",
    "> Membership operators\n",
    "> Bitwise operators"
   ]
  },
  {
   "cell_type": "code",
   "execution_count": 1,
   "id": "6b30c069-2df5-4305-b1d6-ae771d4e2ba3",
   "metadata": {},
   "outputs": [
    {
     "name": "stdout",
     "output_type": "stream",
     "text": [
      "2 4\n",
      "6\n",
      "-2\n",
      "8\n",
      "0.5\n",
      "16\n",
      "2\n",
      "0\n"
     ]
    }
   ],
   "source": [
    "#aritmetic operators\n",
    "a,b=map(int, input().split())\n",
    "add=a+b\n",
    "print(add)\n",
    "sub=a-b\n",
    "print(sub)\n",
    "mul=a*b\n",
    "print(mul)\n",
    "div=a/b\n",
    "print(div)\n",
    "exp=a**b\n",
    "print(exp)\n",
    "mod=a%b\n",
    "print(mod)\n",
    "floor=a//b\n",
    "print(floor)"
   ]
  },
  {
   "cell_type": "code",
   "execution_count": 27,
   "id": "7940f69f",
   "metadata": {},
   "outputs": [],
   "source": [
    "#assignment operators\n",
    "x=3\n",
    "x+=3\n",
    "x-=3\n",
    "x*=3\n",
    "x/=3\n",
    "x%=3\n",
    "x//=3\n",
    "x**=3"
   ]
  },
  {
   "cell_type": "code",
   "execution_count": 11,
   "id": "73546daf",
   "metadata": {},
   "outputs": [
    {
     "name": "stdout",
     "output_type": "stream",
     "text": [
      "3\n"
     ]
    }
   ],
   "source": [
    "x=3\n",
    "x|=3\n",
    "print(x)"
   ]
  },
  {
   "cell_type": "code",
   "execution_count": 12,
   "id": "d0837f34",
   "metadata": {},
   "outputs": [
    {
     "name": "stdout",
     "output_type": "stream",
     "text": [
      "3\n"
     ]
    }
   ],
   "source": [
    "x=3\n",
    "x&=3\n",
    "print(x)"
   ]
  },
  {
   "cell_type": "code",
   "execution_count": 13,
   "id": "b3f63f58",
   "metadata": {},
   "outputs": [
    {
     "name": "stdout",
     "output_type": "stream",
     "text": [
      "0\n"
     ]
    }
   ],
   "source": [
    "x=3\n",
    "x^=3\n",
    "print(x)"
   ]
  },
  {
   "cell_type": "code",
   "execution_count": 14,
   "id": "c1aceee3",
   "metadata": {},
   "outputs": [
    {
     "name": "stdout",
     "output_type": "stream",
     "text": [
      "0\n"
     ]
    }
   ],
   "source": [
    "x=3\n",
    "x>>=3\n",
    "print(x)"
   ]
  },
  {
   "cell_type": "code",
   "execution_count": 15,
   "id": "1e1e946a",
   "metadata": {},
   "outputs": [
    {
     "name": "stdout",
     "output_type": "stream",
     "text": [
      "24\n"
     ]
    }
   ],
   "source": [
    "x=3\n",
    "x<<=3\n",
    "print(x)"
   ]
  },
  {
   "cell_type": "code",
   "execution_count": 20,
   "id": "6a6ae136",
   "metadata": {},
   "outputs": [
    {
     "data": {
      "text/plain": [
       "False"
      ]
     },
     "execution_count": 20,
     "metadata": {},
     "output_type": "execute_result"
    }
   ],
   "source": [
    "#comparision operator\n",
    "\n",
    "3==2"
   ]
  },
  {
   "cell_type": "code",
   "execution_count": 21,
   "id": "c41b1ff6",
   "metadata": {},
   "outputs": [
    {
     "data": {
      "text/plain": [
       "True"
      ]
     },
     "execution_count": 21,
     "metadata": {},
     "output_type": "execute_result"
    }
   ],
   "source": [
    "3!=2"
   ]
  },
  {
   "cell_type": "code",
   "execution_count": 22,
   "id": "65f6290f",
   "metadata": {},
   "outputs": [
    {
     "data": {
      "text/plain": [
       "True"
      ]
     },
     "execution_count": 22,
     "metadata": {},
     "output_type": "execute_result"
    }
   ],
   "source": [
    "3>2"
   ]
  },
  {
   "cell_type": "code",
   "execution_count": 23,
   "id": "83d337aa",
   "metadata": {},
   "outputs": [
    {
     "data": {
      "text/plain": [
       "False"
      ]
     },
     "execution_count": 23,
     "metadata": {},
     "output_type": "execute_result"
    }
   ],
   "source": [
    "3<2"
   ]
  },
  {
   "cell_type": "code",
   "execution_count": 24,
   "id": "6e38d645",
   "metadata": {},
   "outputs": [
    {
     "data": {
      "text/plain": [
       "True"
      ]
     },
     "execution_count": 24,
     "metadata": {},
     "output_type": "execute_result"
    }
   ],
   "source": [
    "3>=2"
   ]
  },
  {
   "cell_type": "code",
   "execution_count": 25,
   "id": "446cddef",
   "metadata": {},
   "outputs": [
    {
     "data": {
      "text/plain": [
       "False"
      ]
     },
     "execution_count": 25,
     "metadata": {},
     "output_type": "execute_result"
    }
   ],
   "source": [
    "3<=2"
   ]
  },
  {
   "cell_type": "code",
   "execution_count": 28,
   "id": "196a3056",
   "metadata": {},
   "outputs": [
    {
     "data": {
      "text/plain": [
       "True"
      ]
     },
     "execution_count": 28,
     "metadata": {},
     "output_type": "execute_result"
    }
   ],
   "source": [
    "# logical operators\n",
    "\n",
    "True and True\n"
   ]
  },
  {
   "cell_type": "code",
   "execution_count": 29,
   "id": "1f2877bd",
   "metadata": {},
   "outputs": [
    {
     "data": {
      "text/plain": [
       "True"
      ]
     },
     "execution_count": 29,
     "metadata": {},
     "output_type": "execute_result"
    }
   ],
   "source": [
    "\n",
    "True or True"
   ]
  },
  {
   "cell_type": "code",
   "execution_count": 30,
   "id": "d713bf8f",
   "metadata": {},
   "outputs": [
    {
     "data": {
      "text/plain": [
       "False"
      ]
     },
     "execution_count": 30,
     "metadata": {},
     "output_type": "execute_result"
    }
   ],
   "source": [
    "True and False"
   ]
  },
  {
   "cell_type": "code",
   "execution_count": 33,
   "id": "71183e25",
   "metadata": {},
   "outputs": [
    {
     "data": {
      "text/plain": [
       "True"
      ]
     },
     "execution_count": 33,
     "metadata": {},
     "output_type": "execute_result"
    }
   ],
   "source": [
    "True or False"
   ]
  },
  {
   "cell_type": "code",
   "execution_count": 35,
   "id": "57bc43d3",
   "metadata": {},
   "outputs": [
    {
     "data": {
      "text/plain": [
       "False"
      ]
     },
     "execution_count": 35,
     "metadata": {},
     "output_type": "execute_result"
    }
   ],
   "source": [
    "not(True and True)"
   ]
  },
  {
   "cell_type": "code",
   "execution_count": 85,
   "id": "0e5cb2b6",
   "metadata": {},
   "outputs": [
    {
     "data": {
      "text/plain": [
       "True"
      ]
     },
     "execution_count": 85,
     "metadata": {},
     "output_type": "execute_result"
    }
   ],
   "source": [
    "# MEMBERSHIP OPERATORS\n",
    "name= \"abdullahinaam\"\n",
    "\"abdu\" in name"
   ]
  },
  {
   "cell_type": "code",
   "execution_count": 37,
   "id": "00ddd980",
   "metadata": {},
   "outputs": [
    {
     "data": {
      "text/plain": [
       "True"
      ]
     },
     "execution_count": 37,
     "metadata": {},
     "output_type": "execute_result"
    }
   ],
   "source": [
    "\"abduks\" not in name"
   ]
  },
  {
   "cell_type": "code",
   "execution_count": 41,
   "id": "ffad33db",
   "metadata": {},
   "outputs": [
    {
     "data": {
      "text/plain": [
       "True"
      ]
     },
     "execution_count": 41,
     "metadata": {},
     "output_type": "execute_result"
    }
   ],
   "source": [
    "# IDENTITY OPERATORS\n",
    "a=2\n",
    "b=3\n",
    "a=b\n",
    "a is b"
   ]
  },
  {
   "cell_type": "code",
   "execution_count": 40,
   "id": "0ea75150",
   "metadata": {},
   "outputs": [
    {
     "data": {
      "text/plain": [
       "False"
      ]
     },
     "execution_count": 40,
     "metadata": {},
     "output_type": "execute_result"
    }
   ],
   "source": [
    "a is not b"
   ]
  },
  {
   "cell_type": "code",
   "execution_count": 42,
   "id": "74d81db3",
   "metadata": {},
   "outputs": [
    {
     "data": {
      "text/plain": [
       "1"
      ]
     },
     "execution_count": 42,
     "metadata": {},
     "output_type": "execute_result"
    }
   ],
   "source": [
    "# BITWISE OPERATORS\n",
    "\n",
    "a=19\n",
    "b=13\n",
    "a&b"
   ]
  },
  {
   "cell_type": "code",
   "execution_count": 46,
   "id": "e17d43dc",
   "metadata": {},
   "outputs": [
    {
     "data": {
      "text/plain": [
       "'0b10011'"
      ]
     },
     "execution_count": 46,
     "metadata": {},
     "output_type": "execute_result"
    }
   ],
   "source": [
    "bin(19)"
   ]
  },
  {
   "cell_type": "code",
   "execution_count": 47,
   "id": "b5cdf614",
   "metadata": {},
   "outputs": [
    {
     "data": {
      "text/plain": [
       "'0b1101'"
      ]
     },
     "execution_count": 47,
     "metadata": {},
     "output_type": "execute_result"
    }
   ],
   "source": [
    "bin(13)"
   ]
  },
  {
   "cell_type": "code",
   "execution_count": 48,
   "id": "e2108e9f",
   "metadata": {},
   "outputs": [
    {
     "data": {
      "text/plain": [
       "'0b1'"
      ]
     },
     "execution_count": 48,
     "metadata": {},
     "output_type": "execute_result"
    }
   ],
   "source": [
    "bin(1)"
   ]
  },
  {
   "cell_type": "code",
   "execution_count": 49,
   "id": "f4e0d43c",
   "metadata": {},
   "outputs": [
    {
     "data": {
      "text/plain": [
       "31"
      ]
     },
     "execution_count": 49,
     "metadata": {},
     "output_type": "execute_result"
    }
   ],
   "source": [
    "a|b"
   ]
  },
  {
   "cell_type": "code",
   "execution_count": 50,
   "id": "4b29beb7",
   "metadata": {},
   "outputs": [
    {
     "data": {
      "text/plain": [
       "30"
      ]
     },
     "execution_count": 50,
     "metadata": {},
     "output_type": "execute_result"
    }
   ],
   "source": [
    "a^b"
   ]
  },
  {
   "cell_type": "code",
   "execution_count": 52,
   "id": "9e2ebb21",
   "metadata": {},
   "outputs": [
    {
     "data": {
      "text/plain": [
       "-14"
      ]
     },
     "execution_count": 52,
     "metadata": {},
     "output_type": "execute_result"
    }
   ],
   "source": [
    "~b"
   ]
  },
  {
   "cell_type": "code",
   "execution_count": 53,
   "id": "ee8624ac",
   "metadata": {},
   "outputs": [
    {
     "data": {
      "text/plain": [
       "0"
      ]
     },
     "execution_count": 53,
     "metadata": {},
     "output_type": "execute_result"
    }
   ],
   "source": [
    "a>>b"
   ]
  },
  {
   "cell_type": "code",
   "execution_count": 54,
   "id": "22559a13",
   "metadata": {},
   "outputs": [
    {
     "data": {
      "text/plain": [
       "155648"
      ]
     },
     "execution_count": 54,
     "metadata": {},
     "output_type": "execute_result"
    }
   ],
   "source": [
    "a<<b"
   ]
  },
  {
   "cell_type": "markdown",
   "id": "a1d44918",
   "metadata": {},
   "source": [
    "### Q5\n",
    "-Type casting\n",
    "\n",
    "   >>Type Casting is the method to convert the Python variable datatype into a certain data type in order to perform the required operation by users.\n",
    "   \n",
    "   >>There can be two types of Type Casting in Python:\n",
    "   \n",
    "   - Python Implicit Type Conversion\n",
    "          >>In this, method, Python converts the datatype into another datatype automatically. Users don’t have to involve in this process. \n",
    "    - Python Explicit Type Conversion\n",
    "           >> In this method, Python needs user involvement to convert the variable data type into the required data type. "
   ]
  },
  {
   "cell_type": "code",
   "execution_count": 55,
   "id": "b86da96e",
   "metadata": {},
   "outputs": [
    {
     "name": "stdout",
     "output_type": "stream",
     "text": [
      "<class 'int'>\n"
     ]
    }
   ],
   "source": [
    "#examples\n",
    "a = 7\n",
    "print(type(a))"
   ]
  },
  {
   "cell_type": "code",
   "execution_count": 56,
   "id": "8808667e",
   "metadata": {},
   "outputs": [
    {
     "name": "stdout",
     "output_type": "stream",
     "text": [
      "<class 'float'>\n"
     ]
    }
   ],
   "source": [
    "b = 3.0\n",
    "print(type(b)) "
   ]
  },
  {
   "cell_type": "code",
   "execution_count": 61,
   "id": "ea5dd73e",
   "metadata": {},
   "outputs": [
    {
     "name": "stdout",
     "output_type": "stream",
     "text": [
      "<class 'float'>\n"
     ]
    }
   ],
   "source": [
    "c = a + b \n",
    "print(type(c))"
   ]
  },
  {
   "cell_type": "code",
   "execution_count": 59,
   "id": "c4293b7d",
   "metadata": {},
   "outputs": [
    {
     "name": "stdout",
     "output_type": "stream",
     "text": [
      "<class 'float'>\n"
     ]
    }
   ],
   "source": [
    "d = a * b\n",
    "print(type(d))"
   ]
  },
  {
   "cell_type": "code",
   "execution_count": 62,
   "id": "f6a3d85a",
   "metadata": {},
   "outputs": [
    {
     "ename": "TypeError",
     "evalue": "can only concatenate str (not \"int\") to str",
     "output_type": "error",
     "traceback": [
      "\u001b[1;31m---------------------------------------------------------------------------\u001b[0m",
      "\u001b[1;31mTypeError\u001b[0m                                 Traceback (most recent call last)",
      "\u001b[1;32m~\\AppData\\Local\\Temp\\ipykernel_15988\\2032755320.py\u001b[0m in \u001b[0;36m<module>\u001b[1;34m\u001b[0m\n\u001b[0;32m      1\u001b[0m \u001b[1;31m#examples\u001b[0m\u001b[1;33m\u001b[0m\u001b[1;33m\u001b[0m\u001b[0m\n\u001b[1;32m----> 2\u001b[1;33m \u001b[1;34m\"6\"\u001b[0m\u001b[1;33m+\u001b[0m\u001b[1;36m7\u001b[0m\u001b[1;33m\u001b[0m\u001b[1;33m\u001b[0m\u001b[0m\n\u001b[0m",
      "\u001b[1;31mTypeError\u001b[0m: can only concatenate str (not \"int\") to str"
     ]
    }
   ],
   "source": [
    "#examples\n",
    "\"6\"+7   #differnt data types"
   ]
  },
  {
   "cell_type": "code",
   "execution_count": 63,
   "id": "2a5e74aa",
   "metadata": {},
   "outputs": [
    {
     "data": {
      "text/plain": [
       "13"
      ]
     },
     "execution_count": 63,
     "metadata": {},
     "output_type": "execute_result"
    }
   ],
   "source": [
    "int(\"6\")+7"
   ]
  },
  {
   "cell_type": "code",
   "execution_count": 64,
   "id": "88466906",
   "metadata": {},
   "outputs": [
    {
     "data": {
      "text/plain": [
       "str"
      ]
     },
     "execution_count": 64,
     "metadata": {},
     "output_type": "execute_result"
    }
   ],
   "source": [
    "a=\"100\"\n",
    "type(a)"
   ]
  },
  {
   "cell_type": "code",
   "execution_count": 66,
   "id": "38221dfc",
   "metadata": {},
   "outputs": [
    {
     "data": {
      "text/plain": [
       "int"
      ]
     },
     "execution_count": 66,
     "metadata": {},
     "output_type": "execute_result"
    }
   ],
   "source": [
    "a=int(a)\n",
    "type(a)"
   ]
  },
  {
   "cell_type": "code",
   "execution_count": 73,
   "id": "dcb6d545",
   "metadata": {},
   "outputs": [
    {
     "data": {
      "text/plain": [
       "float"
      ]
     },
     "execution_count": 73,
     "metadata": {},
     "output_type": "execute_result"
    }
   ],
   "source": [
    "a=5.9\n",
    "type(a)"
   ]
  },
  {
   "cell_type": "code",
   "execution_count": 75,
   "id": "0fac0bec",
   "metadata": {},
   "outputs": [
    {
     "data": {
      "text/plain": [
       "float"
      ]
     },
     "execution_count": 75,
     "metadata": {},
     "output_type": "execute_result"
    }
   ],
   "source": [
    "int(a)\n",
    "type(a)"
   ]
  },
  {
   "cell_type": "code",
   "execution_count": 79,
   "id": "d2c4a140",
   "metadata": {},
   "outputs": [
    {
     "data": {
      "text/plain": [
       "str"
      ]
     },
     "execution_count": 79,
     "metadata": {},
     "output_type": "execute_result"
    }
   ],
   "source": [
    "a=5\n",
    "n=str(a)\n",
    "type(n)"
   ]
  },
  {
   "cell_type": "markdown",
   "id": "45f5d5b4",
   "metadata": {},
   "source": [
    "### Q6\n",
    "- CONDITIONAL STATEMENTS\n",
    "\n",
    "       >> Conditional statements in Python play a key role in determining the direction of program execution. If-Else statements are fundamental, providing a way to execute different blocks of code based on specific conditions.If-Else statements offer two paths, allowing for different outcomes depending on the condition evaluated.\n",
    "       \n",
    "       >> Their are different types of conditional statements\n",
    "          .if\n",
    "          .if else\n",
    "          .elif\n",
    "          .nestef if else"
   ]
  },
  {
   "cell_type": "code",
   "execution_count": 81,
   "id": "b6e3cbb3",
   "metadata": {},
   "outputs": [
    {
     "name": "stdout",
     "output_type": "stream",
     "text": [
      "ture\n"
     ]
    }
   ],
   "source": [
    "# examples\n",
    "#if\n",
    "\n",
    "num=10\n",
    "if num<=10:\n",
    "    print(\"ture\")\n"
   ]
  },
  {
   "cell_type": "code",
   "execution_count": 82,
   "id": "0c9b1706",
   "metadata": {},
   "outputs": [
    {
     "name": "stdout",
     "output_type": "stream",
     "text": [
      "ture\n"
     ]
    }
   ],
   "source": [
    "#if else\n",
    "\n",
    "num=10\n",
    "if num<=10:\n",
    "    print(\"ture\")\n",
    "else:\n",
    "    print(\"false\")\n"
   ]
  },
  {
   "cell_type": "code",
   "execution_count": 84,
   "id": "ac34c899",
   "metadata": {},
   "outputs": [
    {
     "name": "stdout",
     "output_type": "stream",
     "text": [
      "enter time :23\n",
      "GOT TO SLEEP ITS NIGHT TIME\n"
     ]
    }
   ],
   "source": [
    "#elif \n",
    "\n",
    "num=int(input(\"enter time :\"))\n",
    "if num in range(12,18):\n",
    "    print(\"Good afternoon\")\n",
    "elif num in range (18,22) :\n",
    "    print(\"Good evening\")\n",
    "    \n",
    "elif num in range(5,12) :\n",
    "     print(\"Good Morning\")\n",
    "else :\n",
    "    print(\"GOT TO SLEEP ITS NIGHT TIME\")\n",
    "    "
   ]
  },
  {
   "cell_type": "code",
   "execution_count": 88,
   "id": "c6994ddc",
   "metadata": {},
   "outputs": [
    {
     "name": "stdout",
     "output_type": "stream",
     "text": [
      "Zero\n"
     ]
    }
   ],
   "source": [
    "#nested if else\n",
    "\n",
    "i = 0; \n",
    "\n",
    "\n",
    "if i != 0:\n",
    " \n",
    "    if i > 0:\n",
    "        print(\"Positive\")\n",
    " \n",
    "    if i < 0:\n",
    "        print(\"Negative\")\n",
    "else:\n",
    "    print(\"Zero\")\n",
    "    \n"
   ]
  },
  {
   "cell_type": "code",
   "execution_count": 110,
   "id": "bf35877d",
   "metadata": {},
   "outputs": [
    {
     "name": "stdout",
     "output_type": "stream",
     "text": [
      "enter marks:49\n",
      "Grade E+\n"
     ]
    }
   ],
   "source": [
    "num=int(input(\"enter marks:\"))\n",
    "if num>=90 :\n",
    "    print(\"Grade A+\")\n",
    "elif 80<=num<90:\n",
    "    print(\"Grade B+\")\n",
    "elif 70<=num<80:\n",
    "    print(\"Grade C+\")\n",
    "elif 60<=num<70:\n",
    "    print(\"Grade D+\")\n",
    "elif 50<=num<60:\n",
    "    print(\"Grade D\")\n",
    "elif 40<=num<50:\n",
    "    print(\"Grade E+\")\n",
    "elif 30<=num<40:\n",
    "    print(\"Grade E\")\n",
    "else:\n",
    "    print(\"FAIL\")"
   ]
  },
  {
   "cell_type": "code",
   "execution_count": 116,
   "id": "628479b4",
   "metadata": {},
   "outputs": [
    {
     "name": "stdout",
     "output_type": "stream",
     "text": [
      "enter20\n",
      "work again\n"
     ]
    }
   ],
   "source": [
    "num=int(input(\"enter\"))\n",
    "if (num>10) & (num<20):\n",
    "    print(\"good to go\")\n",
    "else:\n",
    "    print(\"work again\")\n",
    "    \n",
    "   "
   ]
  },
  {
   "cell_type": "markdown",
   "id": "df442921",
   "metadata": {},
   "source": [
    "### Q7\n",
    "- LOOPS\n",
    "     >>Loops, also known as iterative statements, are used when we need to execute a block of code repetitively. Loops in programming are control flow structures that enable the repeated execution of a set of instructions or code block as long as a specified condition is met. Loops are fundamental to the concept of iteration in programming, enhancing code efficiency, readability and promoting the reuse of code logic.\n",
    "     >>Their are two types of loops \n",
    "     . for loop\n",
    "     . while loop\n",
    "     .nested loops of both"
   ]
  },
  {
   "cell_type": "code",
   "execution_count": 119,
   "id": "082067e6",
   "metadata": {},
   "outputs": [
    {
     "name": "stdout",
     "output_type": "stream",
     "text": [
      "0 1 2 3 4 5 6 7 8 9 "
     ]
    }
   ],
   "source": [
    "#examples\n",
    "\n",
    "for i in range(0,10):\n",
    "    print(i, end=\" \")"
   ]
  },
  {
   "cell_type": "code",
   "execution_count": 126,
   "id": "b2fa43eb",
   "metadata": {},
   "outputs": [
    {
     "data": {
      "text/plain": [
       "[0, 1, 2, 3, 4, 5, 6, 7, 8, 9]"
      ]
     },
     "execution_count": 126,
     "metadata": {},
     "output_type": "execute_result"
    }
   ],
   "source": [
    "\n",
    "list(range(0,10))"
   ]
  },
  {
   "cell_type": "code",
   "execution_count": 128,
   "id": "40e35c21",
   "metadata": {},
   "outputs": [
    {
     "name": "stdout",
     "output_type": "stream",
     "text": [
      "a b d u l l a h i n a a m "
     ]
    }
   ],
   "source": [
    "a=\"abdullahinaam\"\n",
    "for i in a:\n",
    "    print(i,end=\" \")"
   ]
  },
  {
   "cell_type": "code",
   "execution_count": 136,
   "id": "153e76ca",
   "metadata": {},
   "outputs": [
    {
     "name": "stdout",
     "output_type": "stream",
     "text": [
      "apple\n",
      "banana\n",
      "mango\n",
      "12\n",
      "882\n"
     ]
    }
   ],
   "source": [
    "List=[\"apple\",\"banana\",\"mango\",12,882]\n",
    "for i in List:\n",
    "    print(i)\n",
    "    \n",
    "    "
   ]
  },
  {
   "cell_type": "code",
   "execution_count": 11,
   "id": "c234982f",
   "metadata": {},
   "outputs": [
    {
     "name": "stdout",
     "output_type": "stream",
     "text": [
      "apple\n",
      "banana\n",
      "12\n",
      "882\n",
      "sucessful\n"
     ]
    }
   ],
   "source": [
    "List=[\"apple\",\"banana\",\"mango\",12,882]\n",
    "for i in List:\n",
    "    if i== \"mango\":\n",
    "        continue\n",
    "    print(i)\n",
    "else:\n",
    "    print(\"sucessful\")"
   ]
  },
  {
   "cell_type": "code",
   "execution_count": 143,
   "id": "8207d1c8",
   "metadata": {},
   "outputs": [
    {
     "name": "stdout",
     "output_type": "stream",
     "text": [
      "apple\n",
      "banana\n"
     ]
    }
   ],
   "source": [
    "for i in List:\n",
    "    if i== \"mango\":\n",
    "        break\n",
    "    print(i)"
   ]
  },
  {
   "cell_type": "code",
   "execution_count": 144,
   "id": "deb43ea9",
   "metadata": {},
   "outputs": [
    {
     "name": "stdout",
     "output_type": "stream",
     "text": [
      "apple\n",
      "banana\n",
      "12\n",
      "882\n"
     ]
    }
   ],
   "source": [
    "for i in List:\n",
    "    if i== \"mango\":\n",
    "        continue\n",
    "    print(i)"
   ]
  },
  {
   "cell_type": "code",
   "execution_count": 145,
   "id": "f27e32ea",
   "metadata": {},
   "outputs": [
    {
     "name": "stdout",
     "output_type": "stream",
     "text": [
      "0 2 4 6 8 10 12 14 16 18 "
     ]
    }
   ],
   "source": [
    "for i in range(0,20,2):\n",
    "    print(i,end=\" \")\n",
    "    "
   ]
  },
  {
   "cell_type": "code",
   "execution_count": 148,
   "id": "1862fb04",
   "metadata": {},
   "outputs": [
    {
     "name": "stdout",
     "output_type": "stream",
     "text": [
      "enter range6\n",
      " * * * * * *\n",
      " * * * * * *\n",
      " * * * * * *\n",
      " * * * * * *\n",
      " * * * * * *\n",
      " * * * * * *\n"
     ]
    }
   ],
   "source": [
    "n=int(input(\"enter range\"))\n",
    "\n",
    "for i in range(n):\n",
    "    for j in range(n):\n",
    "        print(\" *\", end=\"\")\n",
    "    print()"
   ]
  },
  {
   "cell_type": "code",
   "execution_count": 149,
   "id": "53856c18",
   "metadata": {},
   "outputs": [
    {
     "name": "stdout",
     "output_type": "stream",
     "text": [
      "enter range4\n",
      " *\n",
      " * *\n",
      " * * *\n",
      " * * * *\n"
     ]
    }
   ],
   "source": [
    "n=int(input(\"enter range\"))\n",
    "\n",
    "for i in range(n):\n",
    "    for j in range(i+1):\n",
    "        print(\" *\", end=\"\")\n",
    "    print()\n"
   ]
  },
  {
   "cell_type": "code",
   "execution_count": 150,
   "id": "2c2edefe",
   "metadata": {},
   "outputs": [
    {
     "name": "stdout",
     "output_type": "stream",
     "text": [
      "enter no:7\n",
      "1\n",
      "2\n",
      "3\n",
      "4\n",
      "5\n",
      "6\n"
     ]
    }
   ],
   "source": [
    "#while loops\n",
    "n=int(input(\"enter no:\"))\n",
    "i=1\n",
    "while i <n:\n",
    "    print(i)\n",
    "    i=i+1\n",
    "    "
   ]
  },
  {
   "cell_type": "code",
   "execution_count": 1,
   "id": "748738c3",
   "metadata": {},
   "outputs": [
    {
     "name": "stdout",
     "output_type": "stream",
     "text": [
      "5\n",
      "4\n",
      "3\n",
      "2\n",
      "1\n"
     ]
    }
   ],
   "source": [
    "count=5\n",
    "while count>0:\n",
    "    print(count)\n",
    "    count=count-1\n",
    "    "
   ]
  },
  {
   "cell_type": "code",
   "execution_count": 2,
   "id": "ff9fa8b9",
   "metadata": {},
   "outputs": [
    {
     "name": "stdout",
     "output_type": "stream",
     "text": [
      "enter no:5\n",
      "1\n",
      "2\n",
      "3\n",
      "4\n",
      "sucessful\n"
     ]
    }
   ],
   "source": [
    "n=int(input(\"enter no:\"))\n",
    "i=1\n",
    "while i <n:\n",
    "    print(i)\n",
    "    i=i+1\n",
    "else:\n",
    "    print(\"sucessful\")"
   ]
  },
  {
   "cell_type": "code",
   "execution_count": 3,
   "id": "6200ead7",
   "metadata": {},
   "outputs": [
    {
     "name": "stdout",
     "output_type": "stream",
     "text": [
      "enter no:6\n",
      "1\n",
      "2\n"
     ]
    }
   ],
   "source": [
    "n=int(input(\"enter no:\"))\n",
    "i=1\n",
    "while i <n:\n",
    "    print(i)\n",
    "    i=i+1\n",
    "    if i==3:\n",
    "        break\n",
    "    \n",
    "else:\n",
    "    print(\"sucessful\")"
   ]
  },
  {
   "cell_type": "code",
   "execution_count": 4,
   "id": "659f7e18",
   "metadata": {},
   "outputs": [
    {
     "name": "stdout",
     "output_type": "stream",
     "text": [
      "enter no:6\n",
      "1\n",
      "2\n",
      "3\n",
      "4\n",
      "5\n",
      "sucessful\n"
     ]
    }
   ],
   "source": [
    "n=int(input(\"enter no:\"))\n",
    "i=1\n",
    "while i <n:\n",
    "    print(i)\n",
    "    i=i+1\n",
    "    if i==3:\n",
    "        continue\n",
    "    \n",
    "else:\n",
    "    print(\"sucessful\")"
   ]
  },
  {
   "cell_type": "code",
   "execution_count": 5,
   "id": "e3e4a0c5",
   "metadata": {},
   "outputs": [
    {
     "name": "stdout",
     "output_type": "stream",
     "text": [
      "*\n",
      "**\n",
      "***\n",
      "****\n"
     ]
    }
   ],
   "source": [
    "row=1\n",
    "while row <=4:\n",
    "    col=1\n",
    "    while col <= row:\n",
    "        print(\"*\",end=\"\")\n",
    "        col=col+1\n",
    "    print()\n",
    "    row=row+1"
   ]
  },
  {
   "cell_type": "code",
   "execution_count": 8,
   "id": "f670777a",
   "metadata": {},
   "outputs": [
    {
     "name": "stdout",
     "output_type": "stream",
     "text": [
      "enter no:6\n",
      " * * * * * *\n",
      " * * * * * *\n",
      " * * * * * *\n",
      " * * * * * *\n",
      " * * * * * *\n",
      " * * * * * *\n"
     ]
    }
   ],
   "source": [
    "n=int(input(\"enter no:\"))\n",
    "row=1\n",
    "while row <=n:\n",
    "    col=1\n",
    "    while col <= n:\n",
    "        \n",
    "        print(\" *\",end=\"\")\n",
    "        col=col+1\n",
    "    print()\n",
    "    row=row+1"
   ]
  },
  {
   "cell_type": "code",
   "execution_count": null,
   "id": "49ef5651",
   "metadata": {},
   "outputs": [],
   "source": []
  }
 ],
 "metadata": {
  "kernelspec": {
   "display_name": "Python 3 (ipykernel)",
   "language": "python",
   "name": "python3"
  },
  "language_info": {
   "codemirror_mode": {
    "name": "ipython",
    "version": 3
   },
   "file_extension": ".py",
   "mimetype": "text/x-python",
   "name": "python",
   "nbconvert_exporter": "python",
   "pygments_lexer": "ipython3",
   "version": "3.9.13"
  }
 },
 "nbformat": 4,
 "nbformat_minor": 5
}
